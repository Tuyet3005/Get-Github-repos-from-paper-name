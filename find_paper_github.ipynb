{
 "cells": [
  {
   "cell_type": "markdown",
   "metadata": {},
   "source": [
    "# *Kiểm tra repository của một bài báo khoa học*\n",
    "\n",
    "**Môn học**: Lập trình cho Khoa học dữ liệu\n",
    "\n",
    "**Thông tin sinh viên**\n",
    "\n",
    "Họ tên sinh viên: Nguyễn Thị Ánh Tuyết\n",
    "\n",
    "Mã số sinh viên: 20120422"
   ]
  },
  {
   "cell_type": "markdown",
   "metadata": {},
   "source": [
    "## Import các thư viện cần thiết"
   ]
  },
  {
   "cell_type": "code",
   "execution_count": 1,
   "metadata": {},
   "outputs": [],
   "source": [
    "import re\n",
    "import threading\n",
    "from io import BytesIO\n",
    "import PyPDF2                   # thư viện đọc file PDF\n",
    "import requests\n",
    "from bs4 import BeautifulSoup"
   ]
  },
  {
   "cell_type": "code",
   "execution_count": 2,
   "metadata": {},
   "outputs": [
    {
     "name": "stdout",
     "output_type": "stream",
     "text": [
      "Nhap ten bai bao: Zero-Shot Image Restoration Using Denoising Diffusion Null-Space Model\n"
     ]
    }
   ],
   "source": [
    "# pdf_name = 'Zero-Shot Image Restoration Using Denoising Diffusion Null-Space Model'\n",
    "pdf_name = input('Nhap ten bai bao: ')"
   ]
  },
  {
   "cell_type": "markdown",
   "metadata": {},
   "source": [
    "## Tìm các bài pdf trên google chứa tên giống hoặc gần giống với bài báo cần tìm"
   ]
  },
  {
   "cell_type": "code",
   "execution_count": 3,
   "metadata": {},
   "outputs": [],
   "source": [
    "search_response = requests.get(f'https://google.com/search?q={pdf_name + \" filetype:pdf\"}').text\n",
    "soup = BeautifulSoup(search_response, 'html.parser')"
   ]
  },
  {
   "cell_type": "code",
   "execution_count": 4,
   "metadata": {},
   "outputs": [
    {
     "data": {
      "text/plain": [
       "['https://openreview.net/pdf%3Fid%3DmRieQgMtNTQ',\n",
       " 'https://arxiv.org/pdf/2212.00490',\n",
       " 'https://openaccess.thecvf.com/content/CVPR2021/papers/Kar_Zero-Shot_Single_Image_Restoration_Through_Controlled_Perturbation_of_Koschmieders_Model_CVPR_2021_paper.pdf',\n",
       " 'https://web.eecs.umich.edu/~fessler/book/c-restore.pdf',\n",
       " 'https://core.ac.uk/download/pdf/42390023.pdf',\n",
       " 'https://www.robots.ox.ac.uk/~vedaldi/assets/pubs/ulyanov20deep.pdf',\n",
       " 'https://users.soe.ucsc.edu/~milanfar/publications/dissertations/Thesis_final_Amin.pdf',\n",
       " 'https://eccv2022.ecva.net/files/2021/12/ECCV_2022_MainConference_ProgramGuide_Final_full.pdf']"
      ]
     },
     "execution_count": 4,
     "metadata": {},
     "output_type": "execute_result"
    }
   ],
   "source": [
    "valid_a = []\n",
    "for a in soup.select('a'):\n",
    "    if '[PDF]' in str(a) and a['href'].startswith('/url?q='):\n",
    "        valid_a.append(a)\n",
    "urls = sum((re.findall(r'/url\\?q=([^&]+)', a['href']) for a in valid_a), start=[])\n",
    "urls"
   ]
  },
  {
   "cell_type": "markdown",
   "metadata": {},
   "source": [
    "## Truy cập vào các link file pdf để lấy nội dung file pdf \n",
    "\n",
    "- Dictionary `contents` chứa key là link file, value là nội dung file\n"
   ]
  },
  {
   "cell_type": "code",
   "execution_count": 5,
   "metadata": {},
   "outputs": [
    {
     "name": "stdout",
     "output_type": "stream",
     "text": [
      "Get https://openreview.net/pdf%3Fid%3DmRieQgMtNTQ error - 404\n",
      "Get https://core.ac.uk/download/pdf/42390023.pdf done\n",
      "Get https://web.eecs.umich.edu/~fessler/book/c-restore.pdf done\n",
      "Get https://eccv2022.ecva.net/files/2021/12/ECCV_2022_MainConference_ProgramGuide_Final_full.pdf done\n",
      "Get https://www.robots.ox.ac.uk/~vedaldi/assets/pubs/ulyanov20deep.pdf done\n",
      "Get https://users.soe.ucsc.edu/~milanfar/publications/dissertations/Thesis_final_Amin.pdf done\n",
      "Get https://openaccess.thecvf.com/content/CVPR2021/papers/Kar_Zero-Shot_Single_Image_Restoration_Through_Controlled_Perturbation_of_Koschmieders_Model_CVPR_2021_paper.pdf done\n",
      "Get https://arxiv.org/pdf/2212.00490 done\n",
      "Số lượng trang dạng \".pdf\" hợp lệ: 7\n"
     ]
    }
   ],
   "source": [
    "contents = {}\n",
    "\n",
    "\n",
    "def thread_run(url):\n",
    "    try:\n",
    "        response = requests.get(url, timeout=30)\n",
    "    except requests.Timeout:\n",
    "        print(f\"Get {url} timeout (more than 60)\")\n",
    "        return\n",
    "\n",
    "    if response.status_code != 404:\n",
    "        contents[url] = response.content\n",
    "        print(f\"Get {url} done\")\n",
    "    else:\n",
    "        print(f\"Get {url} error - 404\")\n",
    "\n",
    "\n",
    "threads = [threading.Thread(target=thread_run, args=(url,)) for url in urls]\n",
    "for thread in threads:\n",
    "    thread.start()\n",
    "for thread in threads:\n",
    "    thread.join()\n",
    "\n",
    "print(f'Số lượng trang dạng \".pdf\" hợp lệ: {len(contents)}')"
   ]
  },
  {
   "cell_type": "markdown",
   "metadata": {},
   "source": [
    "## Tìm kiếm và hiển thị các link github tìm thấy được trong nội dung các file pdf\n",
    "Link Github được trích ra từ file pdf, do đó với mỗi file pdf có thể có nhiều link Github. Bài làm:\n",
    "- Sử dụng thư viện PyPDF2 để đọc file pdf\n",
    "- Tìm kiếm đường link Github với chuỗi bắt đầu là 'https://github.com'\n",
    "- Đánh dấu tìm được link Github trong quá trình tìm kiếm.\n",
    "\n",
    "    "
   ]
  },
  {
   "cell_type": "code",
   "execution_count": 6,
   "metadata": {},
   "outputs": [],
   "source": [
    "pdf_link = {}\n",
    "having_github_link = False\n",
    "\n",
    "for url, pdf_content in contents.items():\n",
    "    url: str\n",
    "    pdf_content: bytes\n",
    "\n",
    "    try:\n",
    "        pdf_reader = PyPDF2.PdfReader(BytesIO(pdf_content))\n",
    "        pages = list(pdf_reader.pages) \n",
    "    except Exception:\n",
    "        continue\n",
    "\n",
    "    for page in pages:\n",
    "        text = page.extract_text().replace('\\n', '')\n",
    "        if match := re.findall(r'(https://github\\.com.*?)[ .]', text):\n",
    "            link = match[0]\n",
    "            if not having_github_link: \n",
    "                having_github_link = True\n",
    "            pdf_link[url] = pdf_link.get(url, []) + [link]\n"
   ]
  },
  {
   "cell_type": "markdown",
   "metadata": {},
   "source": [
    "Lúc này, có thể link Github được lấy chưa phải là link Github thực tế, nên em kiểm tra và sửa lại bằng cách:\n",
    "- Tìm tất cả các link repository của username đó trong Github.\n",
    "- Kiểm tra tên của repository cần tìm so với tên của repository thực tế có trong Github người đó:\n",
    "    - Nếu gần giống thì khả năng là do quá trình lấy bị thừa hoặc thiếu ==> thay thế bằng link của repo thực tế."
   ]
  },
  {
   "cell_type": "code",
   "execution_count": 7,
   "metadata": {},
   "outputs": [],
   "source": [
    "# Get all public repo from user name\n",
    "def get_all_Github_repo(username):\n",
    "    repos_name = []\n",
    "    resonse = requests.get(f'https://api.github.com/users/{username}/repos')\n",
    "    repos = resonse.json()\n",
    "    for repo in repos:\n",
    "        repos_name.append(repo['name'])\n",
    "#         print(repo['name'])\n",
    "    return repos_name"
   ]
  },
  {
   "cell_type": "code",
   "execution_count": 8,
   "metadata": {},
   "outputs": [],
   "source": [
    "# Recheck and replace some incorrect Github link \n",
    "def recheck(pdf_link):\n",
    "    for key in pdf_link:\n",
    "        for i, link in enumerate(pdf_link[key]):\n",
    "            user_name = re.search(r'https://github\\.com/(.*)/', link).group(1)\n",
    "            repo_name = re.search(r'https://github\\.com/.*/(.*)', link).group(1)\n",
    "#             print(user_name)\n",
    "            all_repo_name = get_all_Github_repo(user_name)\n",
    "            \n",
    "            for repo in all_repo_name:\n",
    "                if repo in repo_name or repo_name in repo:\n",
    "                    pdf_link[key][i] = 'https://github.com/' + user_name + '/' + repo\n",
    "#                     print(pdf_link[key][i])\n",
    "                    break\n",
    "    return pdf_link"
   ]
  },
  {
   "cell_type": "markdown",
   "metadata": {},
   "source": [
    "### Kết quả\n",
    "- Kết quả sẽ gồm các link github tìm thấy được trong nội dung file pdf hoặc \"There is no Github source!\" nếu không tìm thấy được link Github cho bài báo.\n",
    "- Kết quả khi tìm được sẽ hiển thị dạng:\n",
    "    - \"Link pdf\":\n",
    "        - \"Link Github: ...\"\n",
    "        - \"Link Github: ...\"\n",
    "    - ..."
   ]
  },
  {
   "cell_type": "code",
   "execution_count": 9,
   "metadata": {},
   "outputs": [],
   "source": [
    "def print_link(data : dict):\n",
    "    for key in data:\n",
    "        print(f'Link pdf: {key}')\n",
    "        print('     Link Github:', end = '')\n",
    "        print('\\n     ---> '.join([''] + data[key]))"
   ]
  },
  {
   "cell_type": "code",
   "execution_count": 10,
   "metadata": {},
   "outputs": [
    {
     "name": "stdout",
     "output_type": "stream",
     "text": [
      "Link pdf: https://www.robots.ox.ac.uk/~vedaldi/assets/pubs/ulyanov20deep.pdf\n",
      "     Link Github:\n",
      "     ---> https://github.com/gfacciol/bm3d\n",
      "Link pdf: https://arxiv.org/pdf/2212.00490\n",
      "     Link Github:\n",
      "     ---> https://github.com/wyhuai/DDNM\n"
     ]
    }
   ],
   "source": [
    "if having_github_link: \n",
    "    pdf_link = recheck(pdf_link)\n",
    "    print_link(pdf_link)\n",
    "else:\n",
    "    print('There is no Github source!')"
   ]
  }
 ],
 "metadata": {
  "kernelspec": {
   "display_name": "Python 3 (ipykernel)",
   "language": "python",
   "name": "python3"
  },
  "language_info": {
   "codemirror_mode": {
    "name": "ipython",
    "version": 3
   },
   "file_extension": ".py",
   "mimetype": "text/x-python",
   "name": "python",
   "nbconvert_exporter": "python",
   "pygments_lexer": "ipython3",
   "version": "3.8.8"
  },
  "vscode": {
   "interpreter": {
    "hash": "56fbc53aaaea2f4f947c33e8f2211e45bc3cff50d3ffdda799e956596f168355"
   }
  }
 },
 "nbformat": 4,
 "nbformat_minor": 1
}
